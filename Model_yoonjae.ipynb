{
 "cells": [
  {
   "cell_type": "markdown",
   "metadata": {},
   "source": [
    "## 모델 적용 및 평가\n",
    "1. 로지스틱 회귀 모델\n",
    "2. XGBoost \n",
    "\n",
    "* 하이퍼파라미터 고정\n",
    "    - test_size=0.2\n",
    "    - random_state=42 "
   ]
  },
  {
   "cell_type": "code",
   "execution_count": 1,
   "metadata": {},
   "outputs": [],
   "source": [
    "import pandas as pd\n",
    "from sklearn.model_selection import train_test_split\n",
    "from sklearn.preprocessing import StandardScaler\n",
    "from sklearn.linear_model import LogisticRegression\n",
    "from xgboost import XGBClassifier\n",
    "from sklearn.metrics import accuracy_score, precision_score, f1_score, classification_report\n",
    "import matplotlib.pyplot as plt\n"
   ]
  },
  {
   "cell_type": "code",
   "execution_count": 2,
   "metadata": {},
   "outputs": [
    {
     "data": {
      "text/plain": [
       "Index(['gender', 'Near_Location', 'Partner', 'Promo_friends', 'Phone',\n",
       "       'Contract_period', 'Group_visits', 'Age',\n",
       "       'Avg_additional_charges_total', 'Month_to_end_contract', 'Lifetime',\n",
       "       'Avg_class_frequency_total', 'Avg_class_frequency_current_month',\n",
       "       'Churn'],\n",
       "      dtype='object')"
      ]
     },
     "execution_count": 2,
     "metadata": {},
     "output_type": "execute_result"
    }
   ],
   "source": [
    "# 데이터 로드\n",
    "df = pd.read_csv('./data/gym_churn_us.csv')\n",
    "df.columns"
   ]
  },
  {
   "cell_type": "code",
   "execution_count": 3,
   "metadata": {},
   "outputs": [
    {
     "data": {
      "text/html": [
       "<div>\n",
       "<style scoped>\n",
       "    .dataframe tbody tr th:only-of-type {\n",
       "        vertical-align: middle;\n",
       "    }\n",
       "\n",
       "    .dataframe tbody tr th {\n",
       "        vertical-align: top;\n",
       "    }\n",
       "\n",
       "    .dataframe thead th {\n",
       "        text-align: right;\n",
       "    }\n",
       "</style>\n",
       "<table border=\"1\" class=\"dataframe\">\n",
       "  <thead>\n",
       "    <tr style=\"text-align: right;\">\n",
       "      <th></th>\n",
       "      <th>gender</th>\n",
       "      <th>Near_Location</th>\n",
       "      <th>Partner</th>\n",
       "      <th>Promo_friends</th>\n",
       "      <th>Phone</th>\n",
       "      <th>Contract_period</th>\n",
       "      <th>Group_visits</th>\n",
       "      <th>Age</th>\n",
       "      <th>Avg_additional_charges_total</th>\n",
       "      <th>Month_to_end_contract</th>\n",
       "      <th>Lifetime</th>\n",
       "      <th>Avg_class_frequency_total</th>\n",
       "      <th>Avg_class_frequency_current_month</th>\n",
       "      <th>Churn</th>\n",
       "    </tr>\n",
       "  </thead>\n",
       "  <tbody>\n",
       "    <tr>\n",
       "      <th>count</th>\n",
       "      <td>4000.000000</td>\n",
       "      <td>4000.000000</td>\n",
       "      <td>4000.000000</td>\n",
       "      <td>4000.000000</td>\n",
       "      <td>4000.000000</td>\n",
       "      <td>4000.000000</td>\n",
       "      <td>4000.000000</td>\n",
       "      <td>4000.000000</td>\n",
       "      <td>4000.000000</td>\n",
       "      <td>4000.000000</td>\n",
       "      <td>4000.000000</td>\n",
       "      <td>4000.000000</td>\n",
       "      <td>4000.000000</td>\n",
       "      <td>4000.000000</td>\n",
       "    </tr>\n",
       "    <tr>\n",
       "      <th>mean</th>\n",
       "      <td>0.510250</td>\n",
       "      <td>0.845250</td>\n",
       "      <td>0.486750</td>\n",
       "      <td>0.308500</td>\n",
       "      <td>0.903500</td>\n",
       "      <td>4.681250</td>\n",
       "      <td>0.412250</td>\n",
       "      <td>29.184250</td>\n",
       "      <td>146.943728</td>\n",
       "      <td>4.322750</td>\n",
       "      <td>3.724750</td>\n",
       "      <td>1.879020</td>\n",
       "      <td>1.767052</td>\n",
       "      <td>0.265250</td>\n",
       "    </tr>\n",
       "    <tr>\n",
       "      <th>std</th>\n",
       "      <td>0.499957</td>\n",
       "      <td>0.361711</td>\n",
       "      <td>0.499887</td>\n",
       "      <td>0.461932</td>\n",
       "      <td>0.295313</td>\n",
       "      <td>4.549706</td>\n",
       "      <td>0.492301</td>\n",
       "      <td>3.258367</td>\n",
       "      <td>96.355602</td>\n",
       "      <td>4.191297</td>\n",
       "      <td>3.749267</td>\n",
       "      <td>0.972245</td>\n",
       "      <td>1.052906</td>\n",
       "      <td>0.441521</td>\n",
       "    </tr>\n",
       "    <tr>\n",
       "      <th>min</th>\n",
       "      <td>0.000000</td>\n",
       "      <td>0.000000</td>\n",
       "      <td>0.000000</td>\n",
       "      <td>0.000000</td>\n",
       "      <td>0.000000</td>\n",
       "      <td>1.000000</td>\n",
       "      <td>0.000000</td>\n",
       "      <td>18.000000</td>\n",
       "      <td>0.148205</td>\n",
       "      <td>1.000000</td>\n",
       "      <td>0.000000</td>\n",
       "      <td>0.000000</td>\n",
       "      <td>0.000000</td>\n",
       "      <td>0.000000</td>\n",
       "    </tr>\n",
       "    <tr>\n",
       "      <th>25%</th>\n",
       "      <td>0.000000</td>\n",
       "      <td>1.000000</td>\n",
       "      <td>0.000000</td>\n",
       "      <td>0.000000</td>\n",
       "      <td>1.000000</td>\n",
       "      <td>1.000000</td>\n",
       "      <td>0.000000</td>\n",
       "      <td>27.000000</td>\n",
       "      <td>68.868830</td>\n",
       "      <td>1.000000</td>\n",
       "      <td>1.000000</td>\n",
       "      <td>1.180875</td>\n",
       "      <td>0.963003</td>\n",
       "      <td>0.000000</td>\n",
       "    </tr>\n",
       "    <tr>\n",
       "      <th>50%</th>\n",
       "      <td>1.000000</td>\n",
       "      <td>1.000000</td>\n",
       "      <td>0.000000</td>\n",
       "      <td>0.000000</td>\n",
       "      <td>1.000000</td>\n",
       "      <td>1.000000</td>\n",
       "      <td>0.000000</td>\n",
       "      <td>29.000000</td>\n",
       "      <td>136.220159</td>\n",
       "      <td>1.000000</td>\n",
       "      <td>3.000000</td>\n",
       "      <td>1.832768</td>\n",
       "      <td>1.719574</td>\n",
       "      <td>0.000000</td>\n",
       "    </tr>\n",
       "    <tr>\n",
       "      <th>75%</th>\n",
       "      <td>1.000000</td>\n",
       "      <td>1.000000</td>\n",
       "      <td>1.000000</td>\n",
       "      <td>1.000000</td>\n",
       "      <td>1.000000</td>\n",
       "      <td>6.000000</td>\n",
       "      <td>1.000000</td>\n",
       "      <td>31.000000</td>\n",
       "      <td>210.949625</td>\n",
       "      <td>6.000000</td>\n",
       "      <td>5.000000</td>\n",
       "      <td>2.536078</td>\n",
       "      <td>2.510336</td>\n",
       "      <td>1.000000</td>\n",
       "    </tr>\n",
       "    <tr>\n",
       "      <th>max</th>\n",
       "      <td>1.000000</td>\n",
       "      <td>1.000000</td>\n",
       "      <td>1.000000</td>\n",
       "      <td>1.000000</td>\n",
       "      <td>1.000000</td>\n",
       "      <td>12.000000</td>\n",
       "      <td>1.000000</td>\n",
       "      <td>41.000000</td>\n",
       "      <td>552.590740</td>\n",
       "      <td>12.000000</td>\n",
       "      <td>31.000000</td>\n",
       "      <td>6.023668</td>\n",
       "      <td>6.146783</td>\n",
       "      <td>1.000000</td>\n",
       "    </tr>\n",
       "  </tbody>\n",
       "</table>\n",
       "</div>"
      ],
      "text/plain": [
       "            gender  Near_Location      Partner  Promo_friends        Phone  \\\n",
       "count  4000.000000    4000.000000  4000.000000    4000.000000  4000.000000   \n",
       "mean      0.510250       0.845250     0.486750       0.308500     0.903500   \n",
       "std       0.499957       0.361711     0.499887       0.461932     0.295313   \n",
       "min       0.000000       0.000000     0.000000       0.000000     0.000000   \n",
       "25%       0.000000       1.000000     0.000000       0.000000     1.000000   \n",
       "50%       1.000000       1.000000     0.000000       0.000000     1.000000   \n",
       "75%       1.000000       1.000000     1.000000       1.000000     1.000000   \n",
       "max       1.000000       1.000000     1.000000       1.000000     1.000000   \n",
       "\n",
       "       Contract_period  Group_visits          Age  \\\n",
       "count      4000.000000   4000.000000  4000.000000   \n",
       "mean          4.681250      0.412250    29.184250   \n",
       "std           4.549706      0.492301     3.258367   \n",
       "min           1.000000      0.000000    18.000000   \n",
       "25%           1.000000      0.000000    27.000000   \n",
       "50%           1.000000      0.000000    29.000000   \n",
       "75%           6.000000      1.000000    31.000000   \n",
       "max          12.000000      1.000000    41.000000   \n",
       "\n",
       "       Avg_additional_charges_total  Month_to_end_contract     Lifetime  \\\n",
       "count                   4000.000000            4000.000000  4000.000000   \n",
       "mean                     146.943728               4.322750     3.724750   \n",
       "std                       96.355602               4.191297     3.749267   \n",
       "min                        0.148205               1.000000     0.000000   \n",
       "25%                       68.868830               1.000000     1.000000   \n",
       "50%                      136.220159               1.000000     3.000000   \n",
       "75%                      210.949625               6.000000     5.000000   \n",
       "max                      552.590740              12.000000    31.000000   \n",
       "\n",
       "       Avg_class_frequency_total  Avg_class_frequency_current_month  \\\n",
       "count                4000.000000                        4000.000000   \n",
       "mean                    1.879020                           1.767052   \n",
       "std                     0.972245                           1.052906   \n",
       "min                     0.000000                           0.000000   \n",
       "25%                     1.180875                           0.963003   \n",
       "50%                     1.832768                           1.719574   \n",
       "75%                     2.536078                           2.510336   \n",
       "max                     6.023668                           6.146783   \n",
       "\n",
       "             Churn  \n",
       "count  4000.000000  \n",
       "mean      0.265250  \n",
       "std       0.441521  \n",
       "min       0.000000  \n",
       "25%       0.000000  \n",
       "50%       0.000000  \n",
       "75%       1.000000  \n",
       "max       1.000000  "
      ]
     },
     "execution_count": 3,
     "metadata": {},
     "output_type": "execute_result"
    }
   ],
   "source": [
    "df.describe()"
   ]
  },
  {
   "cell_type": "code",
   "execution_count": 4,
   "metadata": {},
   "outputs": [
    {
     "name": "stdout",
     "output_type": "stream",
     "text": [
      "훈련 점수: 0.9334375, 테스트 점수: 0.91625\n",
      "\n",
      "LogisticRegression 모델 성능 평가\n",
      "accuracy_score 0.91625\n",
      "precision: 0.8729281767955801\n",
      "f1_score: 0.825065274151436\n",
      "\n",
      "XGBoost 모델 성능 평가\n",
      "accuracy_score 0.9275\n",
      "precision: 0.8829787234042553\n",
      "f1_score: 0.8512820512820513\n"
     ]
    },
    {
     "name": "stderr",
     "output_type": "stream",
     "text": [
      "c:\\Users\\Playdata\\anaconda3\\envs\\pystudy_env\\Lib\\site-packages\\sklearn\\linear_model\\_logistic.py:465: ConvergenceWarning: lbfgs failed to converge (status=1):\n",
      "STOP: TOTAL NO. OF ITERATIONS REACHED LIMIT.\n",
      "\n",
      "Increase the number of iterations (max_iter) or scale the data as shown in:\n",
      "    https://scikit-learn.org/stable/modules/preprocessing.html\n",
      "Please also refer to the documentation for alternative solver options:\n",
      "    https://scikit-learn.org/stable/modules/linear_model.html#logistic-regression\n",
      "  n_iter_i = _check_optimize_result(\n",
      "c:\\Users\\Playdata\\anaconda3\\envs\\pystudy_env\\Lib\\site-packages\\xgboost\\core.py:158: UserWarning: [15:29:09] WARNING: C:\\buildkite-agent\\builds\\buildkite-windows-cpu-autoscaling-group-i-08cbc0333d8d4aae1-1\\xgboost\\xgboost-ci-windows\\src\\learner.cc:740: \n",
      "Parameters: { \"use_label_encoder\" } are not used.\n",
      "\n",
      "  warnings.warn(smsg, UserWarning)\n"
     ]
    }
   ],
   "source": [
    "# 1. 데이터 로드 완료\n",
    "\n",
    "# 2. 데이터 전처리\n",
    "\n",
    "# 이진으로 분류된 데이터를 제외하고 범주형 데이터를 위한 전처리\n",
    "columns = ['Avg_additional_charges_total', 'Month_to_end_contract', 'Lifetime', 'Avg_class_frequency_total', 'Avg_class_frequency_current_month']\n",
    "scaler = StandardScaler()\n",
    "df[columns] =scaler.fit_transform(df[columns])\n",
    "\n",
    "# 3. 데이터 분리\n",
    "X = df.drop('Churn', axis=1)\n",
    "y = df['Churn']\n",
    "\n",
    "X_train, X_test, y_train, y_test = train_test_split(X, y, test_size=0.2, random_state=42)\n",
    "\n",
    "# 4. 모델 적용 및 평가\n",
    "\n",
    "# 4_1. 로지스틱 모델\n",
    "lr = LogisticRegression()\n",
    "lr.fit(X_train, y_train)\n",
    "\n",
    "# 평가\n",
    "print(f'훈련 점수: {lr.score(X_train, y_train)}, 테스트 점수: {lr.score(X_test, y_test)}') \n",
    "\n",
    "# 모델 성능 평가\n",
    "y_pred_lr = lr.predict(X_test)\n",
    "\n",
    "def evaluate_model(y_true, y_pred, model_name):\n",
    "    print(f\"\\n{model_name} 모델 성능 평가\")\n",
    "    print(\"accuracy_score\", accuracy_score(y_test, y_pred))\n",
    "    print(\"precision:\", precision_score(y_test, y_pred))\n",
    "    print(f'f1_score: {f1_score(y_test, y_pred)}')\n",
    "\n",
    "evaluate_model(y_test, y_pred_lr, 'LogisticRegression')\n",
    "\n",
    "# 4-2. XGBoost 모델 \n",
    "xgb = XGBClassifier(use_label_encoder=False, eval_metric='logloss')\n",
    "xgb.fit(X_train, y_train)\n",
    "y_pred_xgb = xgb.predict(X_test)\n",
    "\n",
    "# 모델 성능 평가\n",
    "evaluate_model(y_test, y_pred_xgb, 'XGBoost')\n",
    "# print(classification_report(y_test, y_pred_xgb))"
   ]
  },
  {
   "cell_type": "markdown",
   "metadata": {},
   "source": [
    "## Logistic_Regression 최적의 파라미터 찾아보기"
   ]
  },
  {
   "cell_type": "code",
   "execution_count": null,
   "metadata": {},
   "outputs": [],
   "source": [
    "from sklearn.model_selection import RandomizedSearchCV\n",
    "\n",
    "param_grid = {\n",
    "    'C': [0.1, 1, 10],\n",
    "    'penalty': ['l1', 'l2'],\n",
    "    'solver': ['liblinear', 'lbfgs']\n",
    "}\n",
    "\n",
    "random_search = RandomizedSearchCV(LogisticRegression(), param_grid, cv=5)\n",
    "random_search.fit(X_train, y_train)\n",
    "\n",
    "\n",
    "# 최적의 파라미터 출력\n",
    "print(\"최적의 하이퍼파라미터:\", random_search.best_params_)\n",
    "\n",
    "# 최적의 모델로 예측\n",
    "best_lr = random_search.best_estimator_\n",
    "y_pred_best_lr = best_lr.predict(X_test)\n",
    "y_pred_proba_best_lr = best_lr.predict_proba(X_test)[:, 1]\n",
    "\n",
    "# 성능 평가\n",
    "evaluate_model(y_test, y_pred_best_lr, 'Logistic')"
   ]
  },
  {
   "cell_type": "markdown",
   "metadata": {},
   "source": [
    "### 결론\n",
    "- 최적의 하이퍼파라미터: {'solver': 'liblinear', 'penalty': 'l1', 'C': 10}\n",
    "\n",
    "- Logistic 모델 성능 평가\n",
    "- accuracy_score 0.915\n",
    "- precision: 0.8681318681318682\n",
    "- f1_score: 0.8229166666666666\n",
    "\n",
    "\n",
    "- 이전과 비교   \n",
    "(기본값 : C: 1.0 (정규화 강도)\n",
    "penalty: 'l2' (L2 정규화)\n",
    "solver: 'lbfgs' (최적화 알고리즘))\n",
    "\n",
    "\n",
    "accuracy_score 0.91625\n",
    "precision: 0.8729281767955801\n",
    "f1_score: 0.825065274151436\n",
    "\n",
    "### 기본값에서 조금 다르게 파라미터가 나왓지만 점수의 변화는 크지 않다!\n"
   ]
  },
  {
   "cell_type": "markdown",
   "metadata": {},
   "source": [
    "-------------"
   ]
  },
  {
   "cell_type": "markdown",
   "metadata": {},
   "source": [
    "## XGBoost 최적의 파라미터 찾아보기"
   ]
  },
  {
   "cell_type": "code",
   "execution_count": 6,
   "metadata": {},
   "outputs": [
    {
     "name": "stdout",
     "output_type": "stream",
     "text": [
      "Fitting 3 folds for each of 108 candidates, totalling 324 fits\n",
      "최적의 하이퍼파라미터: {'colsample_bytree': 1.0, 'learning_rate': 0.1, 'max_depth': 3, 'n_estimators': 300, 'subsample': 1.0}\n",
      "\n",
      "XGB 모델 성능 평가\n",
      "accuracy_score 0.93375\n",
      "precision: 0.9027027027027027\n",
      "f1_score: 0.8630490956072352\n"
     ]
    }
   ],
   "source": [
    "from sklearn.model_selection import GridSearchCV\n",
    "\n",
    "# XGBoost 모델 객체 생성\n",
    "xgb = XGBClassifier(eval_metric='logloss', enable_categorical=False)\n",
    "\n",
    "# 하이퍼파라미터 후보 설정\n",
    "param_grid = {\n",
    "    'learning_rate': [0.01, 0.1, 0.3],\n",
    "    'n_estimators': [100, 200, 300],\n",
    "    'max_depth': [3, 5, 7],\n",
    "    'subsample': [0.7, 1.0],\n",
    "    'colsample_bytree': [0.7, 1.0]\n",
    "}\n",
    "\n",
    "# GridSearchCV 실행\n",
    "grid_search = GridSearchCV(xgb, param_grid, cv=3, scoring='accuracy', n_jobs=-1, verbose=2)\n",
    "grid_search.fit(X_train, y_train)\n",
    "\n",
    "# 최적의 파라미터 출력\n",
    "print(\"최적의 하이퍼파라미터:\", grid_search.best_params_)\n",
    "\n",
    "# 최적의 모델로 예측\n",
    "best_xgb = grid_search.best_estimator_\n",
    "y_pred_best_xgb = best_xgb.predict(X_test)\n",
    "y_pred_proba_best_xgb = best_xgb.predict_proba(X_test)[:, 1]\n",
    "\n",
    "# 성능 평가\n",
    "evaluate_model(y_test, y_pred_best_xgb, 'XGB')\n"
   ]
  },
  {
   "cell_type": "markdown",
   "metadata": {},
   "source": [
    "### 결론\n",
    "- 최적의 하이퍼파라미터: {'colsample_bytree': 1.0, 'learning_rate': 0.1, 'max_depth': 3, 'n_estimators': 300, 'subsample': 1.0}\n",
    "- 성능 향상\n",
    "    - accuracy_score 0.93375\n",
    "    - precision: 0.9027027027027027\n",
    "    - f1_score: 0.8630490956072352\n",
    "\n",
    "- 이전 결과\n",
    "    - accuracy_score 0.9275\n",
    "    - precision: 0.8829787234042553\n",
    "    - f1_score: 0.8512820512820513\n",
    "\n",
    "### 이전 결과에 비해 점수 모두 소폭 상승"
   ]
  },
  {
   "cell_type": "code",
   "execution_count": 7,
   "metadata": {},
   "outputs": [
    {
     "data": {
      "image/png": "[encoded data removed]",
      "text/plain": [
       "<Figure size 1000x1000 with 1 Axes>"
      ]
     },
     "metadata": {},
     "output_type": "display_data"
    }
   ],
   "source": [
    "# 특성 중요도 시각화\n",
    "from xgboost import plot_importance\n",
    "xgb.fit(X_train, y_train)\n",
    "\n",
    "fig, ax = plt.subplots(figsize=(10, 10))\n",
    "plot_importance(xgb, ax =ax) \n",
    "plt.show()   "
   ]
  },
  {
   "cell_type": "markdown",
   "metadata": {},
   "source": [
    "## ROC_auc Score 적용 및 시각화"
   ]
  },
  {
   "cell_type": "code",
   "execution_count": 8,
   "metadata": {},
   "outputs": [
    {
     "name": "stdout",
     "output_type": "stream",
     "text": [
      "ROC-AUC Score: 0.9693615682638498\n",
      "ROC-AUC Score: 0.9695685287592304\n",
      "ROC-AUC Score: 0.9774495844233252\n"
     ]
    }
   ],
   "source": [
    "from sklearn.metrics import roc_auc_score\n",
    "\n",
    "# 모델 성능 평가\n",
    "\n",
    "# logisticRegression Model\n",
    "y_pred_lr = lr.predict(X_test)\n",
    "y_pred_lr_proba = lr.predict_proba(X_test)[:, 1]\n",
    "# Roc_auc 평가 확인\n",
    "print(\"ROC-AUC Score:\", roc_auc_score(y_test, y_pred_lr_proba))\n",
    "\n",
    "# XGBoost Model - Best params 적용 전\n",
    "y_pred_xgb = xgb.predict(X_test)\n",
    "y_pred_xgb_proba = xgb.predict_proba(X_test)[:, 1]\n",
    "\n",
    "\n",
    "print(\"ROC-AUC Score:\", roc_auc_score(y_test, y_pred_xgb_proba))  \n",
    "  \n",
    "\n",
    "# 적용 후\n",
    "y_pred_best_xgb = best_xgb.predict(X_test)\n",
    "y_pred_proba_best_xgb = best_xgb.predict_proba(X_test)[:, 1]\n",
    "print(\"ROC-AUC Score:\", roc_auc_score(y_test, y_pred_proba_best_xgb))\n"
   ]
  },
  {
   "cell_type": "code",
   "execution_count": 9,
   "metadata": {},
   "outputs": [
    {
     "data": {
      "image/png": "[encoded data removed]",
      "text/plain": [
       "<Figure size 800x600 with 1 Axes>"
      ]
     },
     "metadata": {},
     "output_type": "display_data"
    }
   ],
   "source": [
    "# Roc_auc 평가 확인\n",
    "from sklearn.metrics import roc_curve\n",
    "import matplotlib.pyplot as plt\n",
    "\n",
    "# Roc_curve 시각화\n",
    "def plot_roc_curve(y_true, y_proba, model_name):\n",
    "    fpr, tpr, _ = roc_curve(y_true, y_proba)\n",
    "    plt.plot(fpr, tpr, label=f'{model_name} (AUC = {roc_auc_score(y_true, y_proba):.4f})')\n",
    "    \n",
    "plt.figure(figsize=(8, 6))\n",
    "plot_roc_curve(y_test, y_pred_lr_proba, \"Logistic Regression\")\n",
    "plot_roc_curve(y_test, y_pred_proba_best_xgb, \"XGBoost\")\n",
    "\n",
    "# 대각선 기준선 (무작위 예측)\n",
    "plt.plot([0, 1], [0, 1], 'k--')\n",
    "plt.xlabel('False Positive Rate')\n",
    "plt.ylabel('True Positive Rate')\n",
    "plt.title('ROC Curve')\n",
    "plt.legend()\n",
    "plt.show()"
   ]
  },
  {
   "cell_type": "markdown",
   "metadata": {},
   "source": [
    "---------------------"
   ]
  },
  {
   "cell_type": "markdown",
   "metadata": {},
   "source": [
    "### minmax 전처리 사용"
   ]
  },
  {
   "cell_type": "markdown",
   "metadata": {},
   "source": [
    "## 결론\n",
    "- stadardscaler 사용한 것보다 점수가 미세하게 낮은 걸 확인\n",
    " "
   ]
  },
  {
   "cell_type": "code",
   "execution_count": 10,
   "metadata": {},
   "outputs": [],
   "source": [
    "from sklearn.preprocessing import MinMaxScaler"
   ]
  },
  {
   "cell_type": "code",
   "execution_count": 11,
   "metadata": {},
   "outputs": [
    {
     "name": "stdout",
     "output_type": "stream",
     "text": [
      "훈련 점수: 0.9175, 테스트 점수: 0.8975\n",
      "\n",
      "LogisticRegression 모델 성능 평가\n",
      "accuracy_score 0.8975\n",
      "precision: 0.8409090909090909\n",
      "f1_score: 0.783068783068783\n",
      "\n",
      "XGBoost 모델 성능 평가\n",
      "accuracy_score 0.9275\n",
      "precision: 0.8829787234042553\n",
      "f1_score: 0.8512820512820513\n",
      "ROC-AUC Score: 0.9695685287592304\n",
      "              precision    recall  f1-score   support\n",
      "\n",
      "           0       0.94      0.96      0.95       598\n",
      "           1       0.88      0.82      0.85       202\n",
      "\n",
      "    accuracy                           0.93       800\n",
      "   macro avg       0.91      0.89      0.90       800\n",
      "weighted avg       0.93      0.93      0.93       800\n",
      "\n"
     ]
    },
    {
     "name": "stderr",
     "output_type": "stream",
     "text": [
      "c:\\Users\\Playdata\\anaconda3\\envs\\pystudy_env\\Lib\\site-packages\\sklearn\\linear_model\\_logistic.py:465: ConvergenceWarning: lbfgs failed to converge (status=1):\n",
      "STOP: TOTAL NO. OF ITERATIONS REACHED LIMIT.\n",
      "\n",
      "Increase the number of iterations (max_iter) or scale the data as shown in:\n",
      "    https://scikit-learn.org/stable/modules/preprocessing.html\n",
      "Please also refer to the documentation for alternative solver options:\n",
      "    https://scikit-learn.org/stable/modules/linear_model.html#logistic-regression\n",
      "  n_iter_i = _check_optimize_result(\n"
     ]
    }
   ],
   "source": [
    "# 1. 데이터 로드\n",
    "df = pd.read_csv('./data/gym_churn_us.csv')\n",
    "\n",
    "# 2. 전처리\n",
    "# min_maxscaler\n",
    "columns = ['Avg_additional_charges_total', 'Month_to_end_contract', 'Lifetime', 'Avg_class_frequency_total', 'Avg_class_frequency_current_month']\n",
    "encoder = MinMaxScaler()\n",
    "df[columns] = encoder.fit_transform(df[columns])\n",
    "\n",
    "# 3. 데이터 분리\n",
    "X = df.drop('Churn', axis=1)\n",
    "y = df['Churn']\n",
    "\n",
    "X_train, X_test, y_train, y_test = train_test_split(X, y, test_size=0.2, random_state=42)\n",
    "# 잘 분리됬는지 확인 \n",
    "# print(X_train.shape, X_test.shape) # (3200, 13) (800, 13)\n",
    "\n",
    "# 4. 모델\n",
    "# 4_1. 로지스틱 모델\n",
    "lr = LogisticRegression()\n",
    "lr.fit(X_train, y_train)\n",
    "\n",
    "# 평가\n",
    "print(f'훈련 점수: {lr.score(X_train, y_train)}, 테스트 점수: {lr.score(X_test, y_test)}') \n",
    "\n",
    "# 모델 성능 평가\n",
    "y_pred_lr = lr.predict(X_test)\n",
    "evaluate_model(y_test, y_pred_lr, 'LogisticRegression')\n",
    "\n",
    "# 4-2. XGBoost 모델 \n",
    "xgb = XGBClassifier(eval_metric='logloss')\n",
    "xgb.fit(X_train, y_train)\n",
    "y_pred_xgb = xgb.predict(X_test)\n",
    "y_pred_xgb_proba = xgb.predict_proba(X_test)[:, 1]\n",
    "\n",
    "# 모델 성능 평가\n",
    "evaluate_model(y_test, y_pred_xgb, 'XGBoost')\n",
    "print(\"ROC-AUC Score:\", roc_auc_score(y_test, y_pred_xgb_proba))  \n",
    "print(classification_report(y_test, y_pred_xgb))"
   ]
  },
  {
   "cell_type": "markdown",
   "metadata": {},
   "source": [
    "----------------------\n"
   ]
  },
  {
   "cell_type": "markdown",
   "metadata": {},
   "source": [
    "## 잘못된 전처리"
   ]
  },
  {
   "cell_type": "markdown",
   "metadata": {},
   "source": [
    "- one_hot 인코딩 방식은 문자열로 적용되어 있는 컬럼에 적합한 전처리 과정!\n",
    "- 모두 숫자로 구성되어 있는 현재 데이터에서는 의미있는 전처리 과정이 아님!"
   ]
  },
  {
   "cell_type": "code",
   "execution_count": 12,
   "metadata": {},
   "outputs": [],
   "source": [
    "from sklearn.preprocessing import OneHotEncoder"
   ]
  },
  {
   "cell_type": "code",
   "execution_count": 13,
   "metadata": {},
   "outputs": [
    {
     "name": "stderr",
     "output_type": "stream",
     "text": [
      "c:\\Users\\Playdata\\anaconda3\\envs\\pystudy_env\\Lib\\site-packages\\sklearn\\linear_model\\_logistic.py:465: ConvergenceWarning: lbfgs failed to converge (status=1):\n",
      "STOP: TOTAL NO. OF ITERATIONS REACHED LIMIT.\n",
      "\n",
      "Increase the number of iterations (max_iter) or scale the data as shown in:\n",
      "    https://scikit-learn.org/stable/modules/preprocessing.html\n",
      "Please also refer to the documentation for alternative solver options:\n",
      "    https://scikit-learn.org/stable/modules/linear_model.html#logistic-regression\n",
      "  n_iter_i = _check_optimize_result(\n"
     ]
    },
    {
     "name": "stdout",
     "output_type": "stream",
     "text": [
      "훈련 점수: 0.9446875, 테스트 점수: 0.8675\n",
      "\n",
      "LogisticRegression 모델 성능 평가\n",
      "accuracy_score 0.8675\n",
      "precision: 0.7580645161290323\n",
      "f1_score: 0.7268041237113402\n"
     ]
    },
    {
     "name": "stderr",
     "output_type": "stream",
     "text": [
      "c:\\Users\\Playdata\\anaconda3\\envs\\pystudy_env\\Lib\\site-packages\\xgboost\\core.py:158: UserWarning: [15:29:26] WARNING: C:\\buildkite-agent\\builds\\buildkite-windows-cpu-autoscaling-group-i-08cbc0333d8d4aae1-1\\xgboost\\xgboost-ci-windows\\src\\learner.cc:740: \n",
      "Parameters: { \"use_label_encoder\" } are not used.\n",
      "\n",
      "  warnings.warn(smsg, UserWarning)\n"
     ]
    },
    {
     "name": "stdout",
     "output_type": "stream",
     "text": [
      "\n",
      "XGBoost 모델 성능 평가\n",
      "accuracy_score 0.86875\n",
      "precision: 0.7487179487179487\n",
      "f1_score: 0.7355163727959698\n"
     ]
    }
   ],
   "source": [
    "# 1. 데이터 로드\n",
    "df = pd.read_csv('./data/gym_churn_us.csv')\n",
    "\n",
    "# 2. 전처리\n",
    "# one-hot 인코딩\n",
    "columns = ['Avg_additional_charges_total', 'Month_to_end_contract', 'Lifetime', 'Avg_class_frequency_total', 'Avg_class_frequency_current_month']\n",
    "encoder = OneHotEncoder(drop='first', sparse_output=False)\n",
    "\n",
    "# 해당 에러가 왜 생기는지 궁금...\n",
    "# df[columns] = encoder.fit_transform(df[columns])\n",
    "#     # ValueError: Columns must be same length as key\n",
    "# 이유: 기존 df의 형식 # (4000, 14) 과 endocer을 적용하려는 df[columns]의 shape (4000, 5)가 다르기 때문!\n",
    "\n",
    "# 해결\n",
    "encoded_columns = encoder.fit_transform(df[columns])\n",
    "\n",
    "# 변환된 데이터를 DataFrame으로 변환 후 기존 df와 결합\n",
    "df_encoded = pd.DataFrame(encoded_columns, columns=encoder.get_feature_names_out(columns))\n",
    "df = df.drop(columns=columns).reset_index(drop=True)\n",
    "df = pd.concat([df, df_encoded], axis=1)\n",
    "df\n",
    "\n",
    "# 3. 데이터 분리\n",
    "X = df.drop('Churn', axis=1)\n",
    "y = df['Churn']\n",
    "\n",
    "X_train, X_test, y_train, y_test = train_test_split(X, y, test_size=0.2, random_state=42)\n",
    "\n",
    "# 4. 모델\n",
    "# 4_1. 로지스틱 모델\n",
    "lr = LogisticRegression()\n",
    "lr.fit(X_train, y_train)\n",
    "\n",
    "# 평가\n",
    "print(f'훈련 점수: {lr.score(X_train, y_train)}, 테스트 점수: {lr.score(X_test, y_test)}') \n",
    "\n",
    "# 모델 성능 평가\n",
    "y_pred_lr = lr.predict(X_test)\n",
    "\n",
    "\n",
    "evaluate_model(y_test, y_pred_lr, 'LogisticRegression')\n",
    "\n",
    "# 4-2. XGBoost 모델 \n",
    "xgb = XGBClassifier(use_label_encoder=False, eval_metric='logloss')\n",
    "xgb.fit(X_train, y_train)\n",
    "y_pred_xgb = xgb.predict(X_test)\n",
    "\n",
    "# 모델 성능 평가\n",
    "evaluate_model(y_test, y_pred_xgb, 'XGBoost')\n"
   ]
  },
  {
   "cell_type": "markdown",
   "metadata": {},
   "source": [
    "# 최종 결론"
   ]
  },
  {
   "cell_type": "markdown",
   "metadata": {},
   "source": [
    "1. 데이터 전처리\n",
    "standardscaler를 사용하는 것이 minmaxscaler 보다 더 적합하다\n",
    "\n",
    "2. 모델 사용 \n",
    " Logistic < XGBoost 결과가 조금 더 좋은 편\n",
    "\n",
    "3. GridsearchCV & RandomSerchCV  사용해서 최적의 파라미터 찾고 모델에 적용 및 점수 비교\n",
    "- Logistic의 경우,\n",
    "    - 기본값과 파라미터의 차이가 존재하긴 하지만 점수에서 매우 미미한 차이를 보임\n",
    "- XGBoost의 경우\n",
    "    - 최적의 파라미터로 모델을 실행했을 때, accuracy, precision, f1 score , Roc_Auc 점수 모두 0.01이상 증가함 (큰 차이는 X)\n",
    "    - feature_importance에서 수업 참여 빈도 -> 추가 지출 비용 -> 나이 순으로 중요도가 높았다.\n",
    "\n",
    "4. Roc_Auc Score\n",
    "- 시각화해놓은 ROC_curve에서 쉽게 확인할 수 있듯이\n",
    "- 두 모델 모두 0.9694, 0.9774로 높은 점수를 내고 있다!\n"
   ]
  }
 ],
 "metadata": {
  "kernelspec": {
   "display_name": "pystudy_env",
   "language": "python",
   "name": "python3"
  },
  "language_info": {
   "codemirror_mode": {
    "name": "ipython",
    "version": 3
   },
   "file_extension": ".py",
   "mimetype": "text/x-python",
   "name": "python",
   "nbconvert_exporter": "python",
   "pygments_lexer": "ipython3",
   "version": "3.12.8"
  }
 },
 "nbformat": 4,
 "nbformat_minor": 2
}
